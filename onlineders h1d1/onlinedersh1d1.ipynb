{
 "cells": [
  {
   "cell_type": "markdown",
   "metadata": {},
   "source": [
    "Generate list with n items"
   ]
  },
  {
   "cell_type": "code",
   "execution_count": 180,
   "metadata": {},
   "outputs": [],
   "source": [
    "import random"
   ]
  },
  {
   "cell_type": "code",
   "execution_count": 181,
   "metadata": {},
   "outputs": [
    {
     "data": {
      "text/plain": [
       "0.47974030635845466"
      ]
     },
     "execution_count": 181,
     "metadata": {},
     "output_type": "execute_result"
    }
   ],
   "source": [
    "random.random()"
   ]
  },
  {
   "cell_type": "code",
   "execution_count": 182,
   "metadata": {},
   "outputs": [
    {
     "data": {
      "text/plain": [
       "12"
      ]
     },
     "execution_count": 182,
     "metadata": {},
     "output_type": "execute_result"
    }
   ],
   "source": [
    "s=random.randint(1,100)                                             #random.randint(min,max)\n",
    "s"
   ]
  },
  {
   "cell_type": "code",
   "execution_count": 183,
   "metadata": {},
   "outputs": [
    {
     "data": {
      "text/plain": [
       "[-1, -3, 0, -3, -3, -1, 0, 2, 2, 4]"
      ]
     },
     "execution_count": 183,
     "metadata": {},
     "output_type": "execute_result"
    }
   ],
   "source": [
    "def get_n_random_numbers(n=10,min_=-5,max_=5):\n",
    "    numbers=[]\n",
    "    for i in range(n):\n",
    "        numbers.append(random.randint(min_,max_))\n",
    "    return numbers\n",
    "get_n_random_numbers()"
   ]
  },
  {
   "cell_type": "code",
   "execution_count": 184,
   "metadata": {},
   "outputs": [
    {
     "data": {
      "text/plain": [
       "[-2, -2, 2, -1, -4, -3, -3, 1, -4, -1, -1, 4, -2, 4, 0]"
      ]
     },
     "execution_count": 184,
     "metadata": {},
     "output_type": "execute_result"
    }
   ],
   "source": [
    "my_list=get_n_random_numbers(15,-4,4)\n",
    "my_list"
   ]
  },
  {
   "cell_type": "markdown",
   "metadata": {},
   "source": [
    "Histogram with two methods"
   ]
  },
  {
   "cell_type": "code",
   "execution_count": 185,
   "metadata": {},
   "outputs": [],
   "source": [
    "#for a list [0,-4,8,-1,0,-3,6,3,0,1]\n",
    "#get the histogram, with array of tuples format\n",
    "histogram_1=[\n",
    "    (-4,1),\n",
    "    (-3,1),\n",
    "    (-1,1),\n",
    "    (0,2),\n",
    "    (1,1),\n",
    "    (3,1),\n",
    "    (6,1),\n",
    "    (8,1)\n",
    "]"
   ]
  },
  {
   "cell_type": "code",
   "execution_count": 186,
   "metadata": {},
   "outputs": [
    {
     "data": {
      "text/plain": [
       "[-2, -2, 2, -1, -4, -3, -3, 1, -4, -1, -1, 4, -2, 4, 0]"
      ]
     },
     "execution_count": 186,
     "metadata": {},
     "output_type": "execute_result"
    }
   ],
   "source": [
    "my_list"
   ]
  },
  {
   "cell_type": "code",
   "execution_count": 187,
   "metadata": {},
   "outputs": [
    {
     "data": {
      "text/plain": [
       "[-4, -4, -3, -3, -2, -2, -2, -1, -1, -1, 0, 1, 2, 4, 4]"
      ]
     },
     "execution_count": 187,
     "metadata": {},
     "output_type": "execute_result"
    }
   ],
   "source": [
    "sorted(my_list)"
   ]
  },
  {
   "cell_type": "code",
   "execution_count": 188,
   "metadata": {},
   "outputs": [],
   "source": [
    "def my_frequency_with_dict(list):\n",
    "    frequency_dict={}                                                           #dict()={}\n",
    "    for item in list:\n",
    "        if(item in frequency_dict):\n",
    "            frequency_dict[item]=frequency_dict[item]+1\n",
    "        else:\n",
    "            frequency_dict[item]=1\n",
    "    return frequency_dict"
   ]
  },
  {
   "cell_type": "code",
   "execution_count": 189,
   "metadata": {},
   "outputs": [
    {
     "data": {
      "text/plain": [
       "{-2: 3, 2: 1, -1: 3, -4: 2, -3: 2, 1: 1, 4: 2, 0: 1}"
      ]
     },
     "execution_count": 189,
     "metadata": {},
     "output_type": "execute_result"
    }
   ],
   "source": [
    "my_frequency_with_dict(my_list)"
   ]
  },
  {
   "cell_type": "code",
   "execution_count": 190,
   "metadata": {},
   "outputs": [],
   "source": [
    "def my_frequency_with_list_of_tuples(list_1):\n",
    "    frequency_list=[]\n",
    "    for i in range(len(list_1)):\n",
    "        s=False\n",
    "        for j in range(len(frequency_list)):\n",
    "            if(list_1[i]==frequency_list[j][0]):\n",
    "                frequency_list[j][1]=frequency_list[j][1]+1\n",
    "                s=True\n",
    "        if(s==False):\n",
    "            frequency_list.append([list_1[i],1])\n",
    "    return frequency_list "
   ]
  },
  {
   "cell_type": "code",
   "execution_count": 191,
   "metadata": {},
   "outputs": [
    {
     "data": {
      "text/plain": [
       "({2: 5, 3: 3, 5: 2, 8: 2, 4: 6}, [[2, 5], [3, 3], [5, 2], [8, 2], [4, 6]])"
      ]
     },
     "execution_count": 191,
     "metadata": {},
     "output_type": "execute_result"
    }
   ],
   "source": [
    "my_list=[2,3,2,5,8,2,4,3,3,2,8,5,2,4,4,4,4,4]\n",
    "result_1=my_frequency_with_dict(my_list)\n",
    "result_2=my_frequency_with_list_of_tuples(my_list)\n",
    "result_1,result_2\n"
   ]
  },
  {
   "cell_type": "markdown",
   "metadata": {},
   "source": [
    "Mode of a list with histogram"
   ]
  },
  {
   "cell_type": "code",
   "execution_count": 192,
   "metadata": {},
   "outputs": [
    {
     "data": {
      "text/plain": [
       "{-5: 1, 4: 1, -1: 1, -3: 1, -4: 2, 1: 3, 2: 1}"
      ]
     },
     "execution_count": 192,
     "metadata": {},
     "output_type": "execute_result"
    }
   ],
   "source": [
    "my_list_1=get_n_random_numbers(10)\n",
    "my_hist_d=my_frequency_with_dict(my_list_1)\n",
    "my_hist_d"
   ]
  },
  {
   "cell_type": "code",
   "execution_count": 193,
   "metadata": {},
   "outputs": [
    {
     "data": {
      "text/plain": [
       "[[-5, 1], [4, 1], [-1, 1], [-3, 1], [-4, 2], [1, 3], [2, 1]]"
      ]
     },
     "execution_count": 193,
     "metadata": {},
     "output_type": "execute_result"
    }
   ],
   "source": [
    "my_hist_1=my_frequency_with_list_of_tuples(my_list_1)\n",
    "my_hist_1"
   ]
  },
  {
   "cell_type": "code",
   "execution_count": 194,
   "metadata": {},
   "outputs": [
    {
     "name": "stdout",
     "output_type": "stream",
     "text": [
      "-5 1\n",
      "4 1\n",
      "-1 1\n",
      "-3 1\n",
      "-4 2\n",
      "1 3\n",
      "2 1\n"
     ]
    }
   ],
   "source": [
    "#to get mode, we have to search alla keys on hist_dict\n",
    "frequency_max=-1\n",
    "mode=-1\n",
    "for key in my_hist_d.keys():\n",
    "    print(key,my_hist_d[key])\n",
    "    if my_hist_d[key]>frequency_max:\n",
    "        frequency_max=my_hist_d[key]\n",
    "        mode=key\n",
    "    frequency_max,mode"
   ]
  },
  {
   "cell_type": "code",
   "execution_count": 195,
   "metadata": {},
   "outputs": [
    {
     "data": {
      "text/plain": [
       "(3, 1)"
      ]
     },
     "execution_count": 195,
     "metadata": {},
     "output_type": "execute_result"
    }
   ],
   "source": [
    "(3,1)"
   ]
  },
  {
   "cell_type": "code",
   "execution_count": 196,
   "metadata": {},
   "outputs": [],
   "source": [
    "#to get mod, we have to search all keys on hist_dict\n",
    "def my_mode_with_dict(my_hist_d):\n",
    "    \n",
    "    frequency_max=-1\n",
    "    mode=-1\n",
    "    for key in my_hist_d.keys():\n",
    "        #print(key,my_hist_d[key])\n",
    "        if my_hist_d[key]>frequency_max:\n",
    "            frequency_max=my_hist_d[key]\n",
    "            mode=key\n",
    "    return mode,frequency_max"
   ]
  },
  {
   "cell_type": "code",
   "execution_count": 197,
   "metadata": {},
   "outputs": [
    {
     "data": {
      "text/plain": [
       "(1, 3)"
      ]
     },
     "execution_count": 197,
     "metadata": {},
     "output_type": "execute_result"
    }
   ],
   "source": [
    "my_mode_with_dict(my_hist_d)"
   ]
  },
  {
   "cell_type": "code",
   "execution_count": 198,
   "metadata": {},
   "outputs": [
    {
     "data": {
      "text/plain": [
       "(34, 4)"
      ]
     },
     "execution_count": 198,
     "metadata": {},
     "output_type": "execute_result"
    }
   ],
   "source": [
    "my_list_100=get_n_random_numbers(100,-40,40)\n",
    "my_hist_1=my_frequency_with_dict(my_list_100)\n",
    "my_mode_with_dict(my_hist_1)"
   ]
  },
  {
   "cell_type": "code",
   "execution_count": 199,
   "metadata": {},
   "outputs": [
    {
     "data": {
      "text/plain": [
       "{8: 3,\n",
       " 3: 3,\n",
       " 34: 4,\n",
       " -34: 1,\n",
       " 14: 3,\n",
       " -27: 3,\n",
       " -18: 1,\n",
       " -40: 2,\n",
       " 15: 1,\n",
       " -22: 2,\n",
       " 10: 2,\n",
       " 39: 2,\n",
       " 7: 3,\n",
       " -4: 3,\n",
       " -3: 1,\n",
       " 33: 1,\n",
       " -38: 3,\n",
       " -24: 3,\n",
       " -15: 2,\n",
       " 2: 3,\n",
       " -14: 3,\n",
       " -29: 3,\n",
       " -10: 3,\n",
       " 40: 1,\n",
       " 35: 1,\n",
       " 38: 2,\n",
       " 30: 1,\n",
       " -28: 1,\n",
       " -23: 2,\n",
       " -25: 1,\n",
       " 24: 2,\n",
       " 26: 1,\n",
       " 4: 2,\n",
       " 17: 2,\n",
       " 37: 1,\n",
       " -7: 2,\n",
       " -19: 1,\n",
       " 21: 2,\n",
       " 5: 1,\n",
       " 12: 2,\n",
       " 9: 1,\n",
       " -20: 1,\n",
       " 31: 3,\n",
       " -39: 2,\n",
       " 28: 1,\n",
       " 32: 1,\n",
       " -9: 1,\n",
       " -26: 1,\n",
       " -37: 1,\n",
       " -21: 2,\n",
       " 13: 1,\n",
       " -33: 2,\n",
       " 23: 1,\n",
       " -6: 1,\n",
       " -36: 1}"
      ]
     },
     "execution_count": 199,
     "metadata": {},
     "output_type": "execute_result"
    }
   ],
   "source": [
    "my_hist_1"
   ]
  },
  {
   "cell_type": "code",
   "execution_count": 200,
   "metadata": {},
   "outputs": [
    {
     "data": {
      "text/plain": [
       "[-40,\n",
       " -40,\n",
       " -39,\n",
       " -39,\n",
       " -38,\n",
       " -38,\n",
       " -38,\n",
       " -37,\n",
       " -36,\n",
       " -34,\n",
       " -33,\n",
       " -33,\n",
       " -29,\n",
       " -29,\n",
       " -29,\n",
       " -28,\n",
       " -27,\n",
       " -27,\n",
       " -27,\n",
       " -26,\n",
       " -25,\n",
       " -24,\n",
       " -24,\n",
       " -24,\n",
       " -23,\n",
       " -23,\n",
       " -22,\n",
       " -22,\n",
       " -21,\n",
       " -21,\n",
       " -20,\n",
       " -19,\n",
       " -18,\n",
       " -15,\n",
       " -15,\n",
       " -14,\n",
       " -14,\n",
       " -14,\n",
       " -10,\n",
       " -10,\n",
       " -10,\n",
       " -9,\n",
       " -7,\n",
       " -7,\n",
       " -6,\n",
       " -4,\n",
       " -4,\n",
       " -4,\n",
       " -3,\n",
       " 2,\n",
       " 2,\n",
       " 2,\n",
       " 3,\n",
       " 3,\n",
       " 3,\n",
       " 4,\n",
       " 4,\n",
       " 5,\n",
       " 7,\n",
       " 7,\n",
       " 7,\n",
       " 8,\n",
       " 8,\n",
       " 8,\n",
       " 9,\n",
       " 10,\n",
       " 10,\n",
       " 12,\n",
       " 12,\n",
       " 13,\n",
       " 14,\n",
       " 14,\n",
       " 14,\n",
       " 15,\n",
       " 17,\n",
       " 17,\n",
       " 21,\n",
       " 21,\n",
       " 23,\n",
       " 24,\n",
       " 24,\n",
       " 26,\n",
       " 28,\n",
       " 30,\n",
       " 31,\n",
       " 31,\n",
       " 31,\n",
       " 32,\n",
       " 33,\n",
       " 34,\n",
       " 34,\n",
       " 34,\n",
       " 34,\n",
       " 35,\n",
       " 37,\n",
       " 38,\n",
       " 38,\n",
       " 39,\n",
       " 39,\n",
       " 40]"
      ]
     },
     "execution_count": 200,
     "metadata": {},
     "output_type": "execute_result"
    }
   ],
   "source": [
    "sorted(my_list_100)"
   ]
  },
  {
   "cell_type": "markdown",
   "metadata": {},
   "source": [
    "Mode of a list with histogram(a list of tuples)"
   ]
  },
  {
   "cell_type": "code",
   "execution_count": null,
   "metadata": {},
   "outputs": [],
   "source": [
    "my_list_1=get_n_random_numbers(10)\n",
    "my_hist_list=my_frequency_with_list_of_tuples(my_list_1)\n",
    "my_hist_list"
   ]
  },
  {
   "cell_type": "code",
   "execution_count": null,
   "metadata": {},
   "outputs": [],
   "source": [
    "#to get mode, we have to search alla keys on hist_dict\n",
    "frequency_max=-1\n",
    "mode=-1\n",
    "for item,frequency in my_hist_list:\n",
    "    print(item,frequency)\n",
    "    if frequency>frequency_max:\n",
    "        frequency_max=frequency\n",
    "        mode=item\n",
    "mode,frequency_max"
   ]
  },
  {
   "cell_type": "code",
   "execution_count": 203,
   "metadata": {},
   "outputs": [],
   "source": [
    "#to get mode, we have to search all keys on hist_dict\n",
    "def my_mode_with_list(my_hist_list):\n",
    "    frequency_max=-1\n",
    "    mode=-1\n",
    "    for item,frequency in my_hist_list:\n",
    "        print(item,frequency)\n",
    "        if frequency>frequency_max:\n",
    "            frequency_max=frequency\n",
    "            mode=item\n",
    "    return mode,frequency_max"
   ]
  },
  {
   "cell_type": "code",
   "execution_count": 204,
   "metadata": {},
   "outputs": [
    {
     "name": "stdout",
     "output_type": "stream",
     "text": [
      "-5 2\n",
      "-3 3\n",
      "0 2\n",
      "3 2\n",
      "-1 1\n"
     ]
    },
    {
     "data": {
      "text/plain": [
       "(-3, 3)"
      ]
     },
     "execution_count": 204,
     "metadata": {},
     "output_type": "execute_result"
    }
   ],
   "source": [
    "my_mode_with_list(my_hist_list)"
   ]
  },
  {
   "cell_type": "code",
   "execution_count": 205,
   "metadata": {},
   "outputs": [
    {
     "name": "stdout",
     "output_type": "stream",
     "text": [
      "4 6\n",
      "2 3\n",
      "-2 3\n",
      "0 2\n",
      "3 2\n",
      "-1 1\n",
      "-4 2\n",
      "1 1\n"
     ]
    },
    {
     "data": {
      "text/plain": [
       "(4, 6)"
      ]
     },
     "execution_count": 205,
     "metadata": {},
     "output_type": "execute_result"
    }
   ],
   "source": [
    "my_list_100=get_n_random_numbers(20,-4,4)\n",
    "my_hist_1=my_frequency_with_list_of_tuples(my_list_100)\n",
    "my_mode_with_list(my_hist_1)"
   ]
  },
  {
   "cell_type": "code",
   "execution_count": 206,
   "metadata": {},
   "outputs": [
    {
     "data": {
      "text/plain": [
       "[4, 2, -2, -2, 2, -2, 0, 4, 4, 4, 3, 3, -1, -4, 1, -4, 0, 4, 2, 4]"
      ]
     },
     "execution_count": 206,
     "metadata": {},
     "output_type": "execute_result"
    }
   ],
   "source": [
    "my_list_100"
   ]
  },
  {
   "cell_type": "markdown",
   "metadata": {},
   "source": [
    "linear search on list"
   ]
  },
  {
   "cell_type": "code",
   "execution_count": 207,
   "metadata": {},
   "outputs": [],
   "source": [
    "def my_linear_search(my_list,item_search):\n",
    "    found=(-1,-1)                         #default, eğer listede yoksa\n",
    "    for indis in my_list:\n",
    "        if my_list[indis]==item_search:\n",
    "            found=(my_list[indis],indis)  #listede bulundu, return bulunan sayı, indisi tuple olarak return edilir\n",
    "            #break, uncomment for last found\n",
    "    return found"
   ]
  },
  {
   "cell_type": "code",
   "execution_count": 246,
   "metadata": {},
   "outputs": [
    {
     "data": {
      "text/plain": [
       "[1, 2, 5, -4, -2, -4, 0, 1, -3, -1]"
      ]
     },
     "execution_count": 246,
     "metadata": {},
     "output_type": "execute_result"
    }
   ],
   "source": [
    "my_list=get_n_random_numbers(10,-5,5)\n",
    "my_list"
   ]
  },
  {
   "cell_type": "code",
   "execution_count": 247,
   "metadata": {},
   "outputs": [
    {
     "data": {
      "text/plain": [
       "(-1, -1)"
      ]
     },
     "execution_count": 247,
     "metadata": {},
     "output_type": "execute_result"
    }
   ],
   "source": [
    "my_linear_search(my_list,10)"
   ]
  },
  {
   "cell_type": "markdown",
   "metadata": {},
   "source": [
    "mean of list"
   ]
  },
  {
   "cell_type": "code",
   "execution_count": 248,
   "metadata": {},
   "outputs": [
    {
     "data": {
      "text/plain": [
       "[-8, -37, 16, 6, 34, 20, -17, 34, 1, -47]"
      ]
     },
     "execution_count": 248,
     "metadata": {},
     "output_type": "execute_result"
    }
   ],
   "source": [
    "my_list=get_n_random_numbers(10,-50,50)\n",
    "my_list"
   ]
  },
  {
   "cell_type": "code",
   "execution_count": 249,
   "metadata": {},
   "outputs": [
    {
     "data": {
      "text/plain": [
       "0.2"
      ]
     },
     "execution_count": 249,
     "metadata": {},
     "output_type": "execute_result"
    }
   ],
   "source": [
    "s,t=0,0\n",
    "for item in my_list:\n",
    "    s=s+1\n",
    "    t=t+item\n",
    "mean_=t/s\n",
    "mean_"
   ]
  },
  {
   "cell_type": "code",
   "execution_count": 250,
   "metadata": {},
   "outputs": [],
   "source": [
    "def my_mean(my_list):\n",
    "    s,t=0,0\n",
    "    for item in my_list:\n",
    "        s=s+1\n",
    "        t=t+item\n",
    "    mean_=t/s\n",
    "    return mean_"
   ]
  },
  {
   "cell_type": "code",
   "execution_count": 251,
   "metadata": {},
   "outputs": [
    {
     "name": "stdout",
     "output_type": "stream",
     "text": [
      "[3, -5, 1, -1]\n"
     ]
    },
    {
     "data": {
      "text/plain": [
       "-0.5"
      ]
     },
     "execution_count": 251,
     "metadata": {},
     "output_type": "execute_result"
    }
   ],
   "source": [
    "my_list=get_n_random_numbers(4,-5,5)\n",
    "print(my_list)\n",
    "my_mean(my_list)"
   ]
  },
  {
   "cell_type": "markdown",
   "metadata": {},
   "source": [
    "sort the list"
   ]
  },
  {
   "cell_type": "code",
   "execution_count": 252,
   "metadata": {},
   "outputs": [
    {
     "data": {
      "text/plain": [
       "[3, -5, 1, -1]"
      ]
     },
     "execution_count": 252,
     "metadata": {},
     "output_type": "execute_result"
    }
   ],
   "source": [
    "my_list"
   ]
  },
  {
   "cell_type": "code",
   "execution_count": 253,
   "metadata": {},
   "outputs": [
    {
     "name": "stdout",
     "output_type": "stream",
     "text": [
      "[3, -5, 1, -1]\n",
      "[-5, -1, 1, 3]\n"
     ]
    }
   ],
   "source": [
    "n=len(my_list)\n",
    "print(my_list)\n",
    "for i in range(n-1,-1,-1):\n",
    "    for j in range(0,i):\n",
    "        if not(my_list[j]<my_list[j+1]):\n",
    "            #print(\"swap\" işlemi)\n",
    "            temp=my_list[j]\n",
    "            my_list[j]=my_list[j+1]\n",
    "            my_list[j+1]=temp\n",
    "print(my_list)"
   ]
  },
  {
   "cell_type": "code",
   "execution_count": 254,
   "metadata": {},
   "outputs": [],
   "source": [
    "#with function\n",
    "def my_bubble_sort(my_list):\n",
    "    n=len(my_list)\n",
    "    print(my_list)\n",
    "    for i in range(n-1,-1,-1):\n",
    "        for j in range(0,i):\n",
    "            if not(my_list[j]<my_list[j+i]):\n",
    "                #print (\"swap işlemi\")\n",
    "                temp=my_list[j]\n",
    "                my_list[j]=my_list[j+1]\n",
    "                my_list[j+1]=temp\n",
    "    return my_list"
   ]
  },
  {
   "cell_type": "code",
   "execution_count": 255,
   "metadata": {},
   "outputs": [
    {
     "name": "stdout",
     "output_type": "stream",
     "text": [
      "[4, 0, -5, -4]\n"
     ]
    },
    {
     "ename": "IndexError",
     "evalue": "list index out of range",
     "output_type": "error",
     "traceback": [
      "\u001b[1;31m---------------------------------------------------------------------------\u001b[0m",
      "\u001b[1;31mIndexError\u001b[0m                                Traceback (most recent call last)",
      "\u001b[1;32m<ipython-input-255-7148cc8591a7>\u001b[0m in \u001b[0;36m<module>\u001b[1;34m\u001b[0m\n\u001b[0;32m      1\u001b[0m \u001b[0mmy_list\u001b[0m\u001b[1;33m=\u001b[0m\u001b[0mget_n_random_numbers\u001b[0m\u001b[1;33m(\u001b[0m\u001b[1;36m4\u001b[0m\u001b[1;33m,\u001b[0m\u001b[1;33m-\u001b[0m\u001b[1;36m5\u001b[0m\u001b[1;33m,\u001b[0m\u001b[1;36m5\u001b[0m\u001b[1;33m)\u001b[0m\u001b[1;33m\u001b[0m\u001b[1;33m\u001b[0m\u001b[0m\n\u001b[0;32m      2\u001b[0m \u001b[0mprint\u001b[0m\u001b[1;33m(\u001b[0m\u001b[0mmy_list\u001b[0m\u001b[1;33m)\u001b[0m\u001b[1;33m\u001b[0m\u001b[1;33m\u001b[0m\u001b[0m\n\u001b[1;32m----> 3\u001b[1;33m \u001b[0mmy_bubble_sort\u001b[0m\u001b[1;33m(\u001b[0m\u001b[0mmy_list\u001b[0m\u001b[1;33m)\u001b[0m\u001b[1;33m\u001b[0m\u001b[1;33m\u001b[0m\u001b[0m\n\u001b[0m",
      "\u001b[1;32m<ipython-input-254-7a7c10dfa273>\u001b[0m in \u001b[0;36mmy_bubble_sort\u001b[1;34m(my_list)\u001b[0m\n\u001b[0;32m      5\u001b[0m     \u001b[1;32mfor\u001b[0m \u001b[0mi\u001b[0m \u001b[1;32min\u001b[0m \u001b[0mrange\u001b[0m\u001b[1;33m(\u001b[0m\u001b[0mn\u001b[0m\u001b[1;33m-\u001b[0m\u001b[1;36m1\u001b[0m\u001b[1;33m,\u001b[0m\u001b[1;33m-\u001b[0m\u001b[1;36m1\u001b[0m\u001b[1;33m,\u001b[0m\u001b[1;33m-\u001b[0m\u001b[1;36m1\u001b[0m\u001b[1;33m)\u001b[0m\u001b[1;33m:\u001b[0m\u001b[1;33m\u001b[0m\u001b[1;33m\u001b[0m\u001b[0m\n\u001b[0;32m      6\u001b[0m         \u001b[1;32mfor\u001b[0m \u001b[0mj\u001b[0m \u001b[1;32min\u001b[0m \u001b[0mrange\u001b[0m\u001b[1;33m(\u001b[0m\u001b[1;36m0\u001b[0m\u001b[1;33m,\u001b[0m\u001b[0mi\u001b[0m\u001b[1;33m)\u001b[0m\u001b[1;33m:\u001b[0m\u001b[1;33m\u001b[0m\u001b[1;33m\u001b[0m\u001b[0m\n\u001b[1;32m----> 7\u001b[1;33m             \u001b[1;32mif\u001b[0m \u001b[1;32mnot\u001b[0m\u001b[1;33m(\u001b[0m\u001b[0mmy_list\u001b[0m\u001b[1;33m[\u001b[0m\u001b[0mj\u001b[0m\u001b[1;33m]\u001b[0m\u001b[1;33m<\u001b[0m\u001b[0mmy_list\u001b[0m\u001b[1;33m[\u001b[0m\u001b[0mj\u001b[0m\u001b[1;33m+\u001b[0m\u001b[0mi\u001b[0m\u001b[1;33m]\u001b[0m\u001b[1;33m)\u001b[0m\u001b[1;33m:\u001b[0m\u001b[1;33m\u001b[0m\u001b[1;33m\u001b[0m\u001b[0m\n\u001b[0m\u001b[0;32m      8\u001b[0m                 \u001b[1;31m#print (\"swap işlemi\")\u001b[0m\u001b[1;33m\u001b[0m\u001b[1;33m\u001b[0m\u001b[1;33m\u001b[0m\u001b[0m\n\u001b[0;32m      9\u001b[0m                 \u001b[0mtemp\u001b[0m\u001b[1;33m=\u001b[0m\u001b[0mmy_list\u001b[0m\u001b[1;33m[\u001b[0m\u001b[0mj\u001b[0m\u001b[1;33m]\u001b[0m\u001b[1;33m\u001b[0m\u001b[1;33m\u001b[0m\u001b[0m\n",
      "\u001b[1;31mIndexError\u001b[0m: list index out of range"
     ]
    }
   ],
   "source": [
    "my_list=get_n_random_numbers(4,-5,5)\n",
    "print(my_list)\n",
    "my_bubble_sort(my_list)"
   ]
  },
  {
   "cell_type": "markdown",
   "metadata": {},
   "source": [
    "Binary search on a sorted list"
   ]
  },
  {
   "cell_type": "code",
   "execution_count": null,
   "metadata": {},
   "outputs": [],
   "source": [
    "def my_binary_search(my_list, item_search):\n",
    "    found=(-1,-1)\n",
    "    low=0\n",
    "    high=len(my_list)-1\n",
    "    \n",
    "    while low <=high:\n",
    "        mid=(low+high)//2\n",
    "        \n",
    "        if my_list[mid]==item_search:\n",
    "            return my_list[mid],mid\n",
    "        elif my_list[mid]>item_search:\n",
    "            high=mid-1\n",
    "        else:\n",
    "            low=mid+1\n",
    "    return found #none"
   ]
  },
  {
   "cell_type": "code",
   "execution_count": null,
   "metadata": {},
   "outputs": [],
   "source": [
    "my_list_1=get_n_random_numbers(10)\n",
    "print(\"liste\",my_list_1)\n",
    "my_list_2=bubble_sort(my_list_1)\n",
    "print(\"sıralı liste\",my_list_2)\n",
    "my_binary_search(my_list_2,3)"
   ]
  },
  {
   "cell_type": "markdown",
   "metadata": {},
   "source": [
    "median of a list"
   ]
  },
  {
   "cell_type": "code",
   "execution_count": null,
   "metadata": {},
   "outputs": [],
   "source": [
    "size=input(\"dizi boyutunu giriniz\")\n",
    "size=int(size)   #convert str to int\n",
    "my_list_1=get_n_random_numbers(size)\n",
    "\n",
    "print(\"liste\",my_list_1)"
   ]
  },
  {
   "cell_type": "code",
   "execution_count": null,
   "metadata": {},
   "outputs": [],
   "source": [
    "my_list_2=bubble_sort(my_list_1)"
   ]
  },
  {
   "cell_type": "code",
   "execution_count": null,
   "metadata": {},
   "outputs": [],
   "source": [
    "print(my_list_2)\n",
    "n=len(my_list_2)\n",
    "if n%2==1:\n",
    "    middle=int(n/2)+1\n",
    "    median=my_list_2[middle]\n",
    "    print(median)\n",
    "else:\n",
    "    middle_1=my_list_2[int(n/2)]\n",
    "    middle_2=my_list_2[int(n/2+1)]\n",
    "    median=(middle_1+middle_2)/2\n",
    "    print(median)"
   ]
  },
  {
   "cell_type": "code",
   "execution_count": null,
   "metadata": {},
   "outputs": [],
   "source": [
    "def my_median(my_liste):\n",
    "    my_list_2=bubble_sort(my_list_1)\n",
    "    #print(my_list_2)\n",
    "    n=len(my_list_2)\n",
    "    if n%2==1:\n",
    "        middle=int(n/2)+1\n",
    "        median=my_list_2[middle]\n",
    "        #print(median)\n",
    "    else:\n",
    "        middle_1=my_list_2[int(n/2)]\n",
    "        middle_2=my_list_2[int(n/2)+1]\n",
    "        median=(middle_1+middle_2)/2\n",
    "        #print(median)"
   ]
  },
  {
   "cell_type": "code",
   "execution_count": null,
   "metadata": {},
   "outputs": [],
   "source": [
    "my_list_2=get_n_random_numbers(6,-10,10)\n",
    "my_median(my_list_2)"
   ]
  },
  {
   "cell_type": "code",
   "execution_count": null,
   "metadata": {},
   "outputs": [],
   "source": []
  },
  {
   "cell_type": "code",
   "execution_count": null,
   "metadata": {},
   "outputs": [],
   "source": []
  },
  {
   "cell_type": "code",
   "execution_count": null,
   "metadata": {},
   "outputs": [],
   "source": []
  }
 ],
 "metadata": {
  "kernelspec": {
   "display_name": "Python 3",
   "language": "python",
   "name": "python3"
  },
  "language_info": {
   "codemirror_mode": {
    "name": "ipython",
    "version": 3
   },
   "file_extension": ".py",
   "mimetype": "text/x-python",
   "name": "python",
   "nbconvert_exporter": "python",
   "pygments_lexer": "ipython3",
   "version": "3.7.6"
  }
 },
 "nbformat": 4,
 "nbformat_minor": 4
}
